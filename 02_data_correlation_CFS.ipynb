{
 "cells": [
  {
   "cell_type": "code",
   "execution_count": null,
   "metadata": {},
   "outputs": [],
   "source": [
    "import numpy as np\n",
    "import pandas as pd\n",
    "import pingouin as pg\n",
    "import seaborn as sns\n",
    "import scipy.stats as sp_stats\n",
    "import matplotlib.pyplot as plt\n",
    "sns.set(font_scale=1.25, style='ticks')"
   ]
  },
  {
   "cell_type": "markdown",
   "metadata": {},
   "source": [
    "## Data loading\n",
    "\n",
    "**Health data**"
   ]
  },
  {
   "cell_type": "code",
   "execution_count": null,
   "metadata": {},
   "outputs": [],
   "source": [
    "# Load health\n",
    "df_health = pd.read_csv('../output/csv/df_health_cfs.csv', index_col=[0, 1, 2])\n",
    "\n",
    "cols_health = df_health.columns.tolist()\n",
    "\n",
    "print(df_health.shape)\n",
    "df_health.head()"
   ]
  },
  {
   "cell_type": "code",
   "execution_count": null,
   "metadata": {},
   "outputs": [],
   "source": [
    "print(f\"{(df_health['age'] < 15).sum()} participants < 15 yrs\")\n",
    "print(f\"{(df_health['age'] < 18).sum()} participants < 18 yrs\")\n",
    "print(f\"{(df_health['age'] < 20).sum()} participants < 20 yrs\")"
   ]
  },
  {
   "cell_type": "code",
   "execution_count": null,
   "metadata": {},
   "outputs": [],
   "source": [
    "df_health[\"age\"].hist(bins=np.arange(0, 90, 5));\n",
    "plt.xlim(0, 90)\n",
    "plt.xlabel(\"Age\")\n",
    "plt.ylabel(\"Participants\")\n",
    "plt.title(\"Age distribution — CFS\");"
   ]
  },
  {
   "cell_type": "code",
   "execution_count": null,
   "metadata": {},
   "outputs": [],
   "source": [
    "# Exclude participants younger than 15 yrs\n",
    "df_health.query(\"age >= 15\", inplace=True)\n",
    "print(df_health.shape)"
   ]
  },
  {
   "cell_type": "code",
   "execution_count": null,
   "metadata": {},
   "outputs": [],
   "source": [
    "# Check data types\n",
    "df_health.info()"
   ]
  },
  {
   "cell_type": "code",
   "execution_count": null,
   "metadata": {},
   "outputs": [],
   "source": [
    "# Careful: we have many missing values for smoking, income and OGTT!\n",
    "df_health.isna().sum()"
   ]
  },
  {
   "cell_type": "markdown",
   "metadata": {},
   "source": [
    "**Sleep stats**"
   ]
  },
  {
   "cell_type": "code",
   "execution_count": null,
   "metadata": {},
   "outputs": [],
   "source": [
    "# Load sleep stats\n",
    "df_sstats = pd.read_csv('../output/csv/df_sleepstats.csv')\n",
    "df_sstats = df_sstats[df_sstats['dataset'] == 'cfs']\n",
    "df_sstats['visit'] = df_sstats['visit'].str.split(\"visit\").str.get(-1).astype(int)\n",
    "df_sstats = df_sstats.set_index(['dataset', 'subj', 'visit']).sort_index()\n",
    "cols_sstats = df_sstats.columns.tolist()\n",
    "print(df_sstats.shape)\n",
    "df_sstats.head()"
   ]
  },
  {
   "cell_type": "markdown",
   "metadata": {},
   "source": [
    "**Coupling**"
   ]
  },
  {
   "cell_type": "code",
   "execution_count": null,
   "metadata": {},
   "outputs": [],
   "source": [
    "# Load coupling (NREM)\n",
    "df_coupling = pd.read_csv(\"../output/csv/df_cfs_coupling_NREM_inverted.csv\")\n",
    "df_coupling['visit'] = 1\n",
    "df_coupling = df_coupling.set_index(['dataset', 'subj', 'visit']).sort_index()\n",
    "cols_coupling = df_coupling.columns.tolist()\n",
    "print(df_coupling.shape)\n",
    "df_coupling.head()"
   ]
  },
  {
   "cell_type": "markdown",
   "metadata": {},
   "source": [
    "**Spectral**"
   ]
  },
  {
   "cell_type": "code",
   "execution_count": null,
   "metadata": {},
   "outputs": [],
   "source": [
    "# Load spectral\n",
    "df_spectral = pd.read_csv(\"../output/csv/df_spectral.csv\")\n",
    "df_spectral = df_spectral[df_spectral['dataset'] == 'cfs']\n",
    "df_spectral['visit'] = df_spectral['visit'].str.split(\"visit\").str.get(-1).astype(int)\n",
    "df_spectral = df_spectral.set_index(['dataset', 'subj', 'visit']).sort_index()\n",
    "df_spectral = df_spectral.filter(like=\"REM\")\n",
    "cols_spectral = df_spectral.columns.tolist()\n",
    "print(df_spectral.shape)\n",
    "df_spectral.head()"
   ]
  },
  {
   "cell_type": "code",
   "execution_count": null,
   "metadata": {},
   "outputs": [],
   "source": [
    "# Create SWA/delta column\n",
    "df_spectral.eval(\"bp_delta_NREM = bp_sdelta_NREM + bp_fdelta_NREM\", inplace=True)\n",
    "df_spectral.eval(\"bp_delta_REM = bp_sdelta_REM + bp_fdelta_REM\", inplace=True)\n",
    "df_spectral.shape"
   ]
  },
  {
   "cell_type": "markdown",
   "metadata": {},
   "source": [
    "**HRV**"
   ]
  },
  {
   "cell_type": "code",
   "execution_count": null,
   "metadata": {},
   "outputs": [],
   "source": [
    "# Load HRV\n",
    "df_hrv  = pd.read_csv(\"../output/csv/df_HRV_ALL_cfs.csv\", index_col=[0, 1, 2])\n",
    "df_hrv.columns = [c[:-4] for c in df_hrv.columns]  # Remove suffix for ALL\n",
    "df_hrv.dropna(how=\"all\", axis=1, inplace=True)\n",
    "df_hrv.reset_index(inplace=True)\n",
    "\n",
    "df_hrv['visit'] = df_hrv['visit'].str.split(\"visit\").str.get(-1).astype(int)\n",
    "df_hrv['hrv_hr'] = 60000 / df_hrv['hrv_meannn']\n",
    "df_hrv = df_hrv.set_index(['dataset', 'subj', 'visit']).sort_index()\n",
    "\n",
    "display(df_hrv.filter(like=\"n_epochs\").describe().round(2))\n",
    "\n",
    "cols_hrv = ['hrv_hr', 'hrv_sdnn', 'hrv_rmssd', 'hrv_hf', 'hrv_hfn']\n",
    "\n",
    "df_hrv = df_hrv[cols_hrv]\n",
    "print(df_hrv.shape)\n",
    "df_hrv.head()"
   ]
  },
  {
   "cell_type": "markdown",
   "metadata": {},
   "source": [
    "**Merge**"
   ]
  },
  {
   "cell_type": "code",
   "execution_count": null,
   "metadata": {},
   "outputs": [],
   "source": [
    "# Join\n",
    "df = (\n",
    "    # Inner merge\n",
    "    df_health\n",
    "    .join(df_coupling, how=\"inner\")\n",
    "    .join(df_sstats, how=\"inner\")\n",
    "    # Left merge for spectral and HRV\n",
    "    .join(df_spectral, how=\"left\")\n",
    "    .join(df_hrv, how=\"left\")\n",
    ")    \n",
    "\n",
    "print(df.shape)\n",
    "df.round(3)"
   ]
  },
  {
   "cell_type": "markdown",
   "metadata": {},
   "source": [
    "### Descriptive statistics"
   ]
  },
  {
   "cell_type": "code",
   "execution_count": null,
   "metadata": {},
   "outputs": [],
   "source": [
    "# Number of unique participants\n",
    "print(df.index.get_level_values(1).nunique(), 'unique participants')"
   ]
  },
  {
   "cell_type": "code",
   "execution_count": null,
   "metadata": {},
   "outputs": [],
   "source": [
    "# Number of unique family\n",
    "print(df['family'].nunique(), 'unique family')"
   ]
  },
  {
   "cell_type": "code",
   "execution_count": null,
   "metadata": {},
   "outputs": [],
   "source": [
    "# Number of nights per participant\n",
    "n_visit_per_subj = df.reset_index().groupby(['subj'])['visit'].nunique()\n",
    "display(n_visit_per_subj.value_counts())"
   ]
  },
  {
   "cell_type": "code",
   "execution_count": null,
   "metadata": {},
   "outputs": [],
   "source": [
    "# Percent of missing values\n",
    "100 * (df.isna().sum().sort_values(ascending=False) / df.shape[0]).head(15).round(3)"
   ]
  },
  {
   "cell_type": "markdown",
   "metadata": {},
   "source": [
    "***\n",
    "\n",
    "## Preprocessing"
   ]
  },
  {
   "cell_type": "code",
   "execution_count": null,
   "metadata": {},
   "outputs": [],
   "source": [
    "# Distribution of fasting glucose values per diabetes status\n",
    "sns.histplot(df, x=\"fasting_glucose\", bins=15, hue=\"diabetes_cfs\", stat=\"density\", alpha=0.8, common_norm=False, legend=True);\n",
    "plt.xlabel(\"Fasting glucose (mg/dl)\");\n",
    "plt.ylabel(\"Diabetes status\");"
   ]
  },
  {
   "cell_type": "code",
   "execution_count": null,
   "metadata": {},
   "outputs": [],
   "source": [
    "# Mask rows with too extreme fasting glucose\n",
    "print((~df['fasting_glucose'].between(60, 250)).sum())\n",
    "df['fasting_glucose'].where(df['fasting_glucose'].between(60, 250), inplace=True)"
   ]
  },
  {
   "cell_type": "code",
   "execution_count": null,
   "metadata": {},
   "outputs": [],
   "source": [
    "# Based on the ADA 2003 criteria,\n",
    "df['diabetes_cfs'].value_counts()"
   ]
  },
  {
   "cell_type": "code",
   "execution_count": null,
   "metadata": {},
   "outputs": [],
   "source": [
    "# OGTT\n",
    "sns.histplot(df, x=\"ogtt\", bins=15, stat=\"density\", alpha=0.8, common_norm=False, legend=True);\n",
    "plt.xlabel(\"OGTT (mg/dl)\");"
   ]
  },
  {
   "cell_type": "code",
   "execution_count": null,
   "metadata": {},
   "outputs": [],
   "source": [
    "# HOMA\n",
    "df['homa'].hist();"
   ]
  },
  {
   "cell_type": "code",
   "execution_count": null,
   "metadata": {},
   "outputs": [],
   "source": [
    "# Log-HOMA (common practice)\n",
    "np.log(df['homa']).hist();"
   ]
  },
  {
   "cell_type": "markdown",
   "metadata": {},
   "source": [
    "### Data transformation"
   ]
  },
  {
   "cell_type": "code",
   "execution_count": null,
   "metadata": {},
   "outputs": [],
   "source": [
    "# Safety check: is HOMA the HOMA-IR or HOMA-B?\n",
    "homa_ir = (df['fasting_glucose'] * df['insulin_fast']) / 405\n",
    "\n",
    "display(homa_ir)\n",
    "display(df['homa'])"
   ]
  },
  {
   "cell_type": "code",
   "execution_count": null,
   "metadata": {},
   "outputs": [],
   "source": [
    "# Calculate the HOMA-B\n",
    "df['homab'] = (360 * df['insulin_fast']) / (df['fasting_glucose'] - 63)\n",
    "cols_health.append('homab')"
   ]
  },
  {
   "cell_type": "code",
   "execution_count": null,
   "metadata": {},
   "outputs": [],
   "source": [
    "# Log-transform HOMA\n",
    "df['homa'] = np.log(df['homa'])\n",
    "df['homab'] = np.log(df['homab'])\n",
    "\n",
    "# Square-root transformation\n",
    "df['fasting_glucose'] = np.sqrt(df['fasting_glucose'])\n",
    "df['ogtt'] = np.sqrt(df['ogtt'])\n",
    "df['insulin_fast'] = np.sqrt(df['insulin_fast'])\n",
    "df['insulin_ogtt'] = np.sqrt(df['insulin_ogtt'])"
   ]
  },
  {
   "cell_type": "code",
   "execution_count": null,
   "metadata": {},
   "outputs": [],
   "source": [
    "plt.figure(figsize=(5, 5), dpi=100)\n",
    "sns.histplot(df[\"fasting_glucose\"], bins=np.arange(8, 16.5, 0.5), fill=True, lw=2, color=\"k\")\n",
    "plt.yticks([0, 50, 100, 150, 200])\n",
    "plt.xlabel(\"Fasting glucose $(\\sqrt{mg/dl})$\")\n",
    "plt.ylabel(\"Participants\");"
   ]
  },
  {
   "cell_type": "code",
   "execution_count": null,
   "metadata": {},
   "outputs": [],
   "source": [
    "# Log-transform HRV metrics, except heart rate\n",
    "print(cols_hrv)\n",
    "df['hrv_rmssd'] = np.log(df['hrv_rmssd'])\n",
    "df['hrv_sdnn'] = np.log(df['hrv_sdnn'])\n",
    "df['hrv_hf'] = np.log(df['hrv_hf'])\n",
    "df['hrv_hfn'] = np.log(df['hrv_hfn'])"
   ]
  },
  {
   "cell_type": "markdown",
   "metadata": {},
   "source": [
    "#### Outlier removal"
   ]
  },
  {
   "cell_type": "code",
   "execution_count": null,
   "metadata": {},
   "outputs": [],
   "source": [
    "# Remove outliers in all coupling metrics, based on `ndPAC_thr_supzero` or `ndPAC_prop_supzero`\n",
    "prop_zscore = sp_stats.zscore(df[\"sw_ndpac_prop_supzero\"])\n",
    "thr_zscore = sp_stats.zscore(df[\"sw_ndpac_thr_supzero\"])\n",
    "sns.displot(prop_zscore, rug=True);\n",
    "sns.displot(thr_zscore, rug=True);\n",
    "outliers = np.logical_or(prop_zscore.abs() > 4, thr_zscore.abs() > 4) \n",
    "print(outliers.sum(), 'values with abs(z) > 4')"
   ]
  },
  {
   "cell_type": "code",
   "execution_count": null,
   "metadata": {},
   "outputs": [],
   "source": [
    "df[\"sw_ndpac\"] = np.where(outliers, np.nan, df[\"sw_ndpac\"])\n",
    "df[\"sw_ndpac_prop_supzero\"] = np.where(outliers, np.nan, df[\"sw_ndpac_prop_supzero\"])\n",
    "df[\"sw_ndpac_thr_supzero\"] = np.where(outliers, np.nan, df[\"sw_ndpac_thr_supzero\"])\n",
    "df[\"sw_pp\"] = np.where(outliers, np.nan, df[\"sw_pp\"])\n",
    "df[\"sw_pp_thr_supzero\"] = np.where(outliers, np.nan, df[\"sw_pp_thr_supzero\"])"
   ]
  },
  {
   "cell_type": "code",
   "execution_count": null,
   "metadata": {},
   "outputs": [],
   "source": [
    "# Same for HRV\n",
    "for c in cols_hrv:  \n",
    "    mask = sp_stats.zscore(df[c]).abs() > 4\n",
    "    print(c, mask.sum(), \"values will be masked\")\n",
    "    df[c] = df[c].mask(mask)"
   ]
  },
  {
   "cell_type": "markdown",
   "metadata": {},
   "source": [
    "### Distribution"
   ]
  },
  {
   "cell_type": "code",
   "execution_count": null,
   "metadata": {},
   "outputs": [],
   "source": [
    "plt.figure(figsize=(5, 5))\n",
    "sns.histplot(df[\"sw_ndpac_thr_supzero\"], bins=np.arange(0.25, 0.45, 0.01), fill=True, lw=2, color=\"k\")\n",
    "plt.xlim(0.25, None)\n",
    "plt.yticks([0, 50, 100, 150, 200])\n",
    "plt.xlabel(\"SO—sigma coupling strength\")\n",
    "plt.ylabel(\"Participants\")\n",
    "plt.savefig(\"../output/plots/coupling_hist.png\", bbox_inches=\"tight\", dpi=300)"
   ]
  },
  {
   "cell_type": "code",
   "execution_count": null,
   "metadata": {},
   "outputs": [],
   "source": [
    "plt.figure(figsize=(5, 5))\n",
    "sns.histplot(df[\"sw_ndpac_prop_supzero\"], bins=np.arange(0.7, 1.02, 0.02), fill=True, lw=2, color=\"k\")\n",
    "# plt.xlim(0.25, None)\n",
    "plt.yticks([0, 50, 100, 150, 200])\n",
    "plt.xlabel(\"Prop. of SO with significant coupling\")\n",
    "plt.ylabel(\"Participants\")\n",
    "plt.savefig(\"../output/plots/coupling_prop_hist.png\", bbox_inches=\"tight\", dpi=300)"
   ]
  },
  {
   "cell_type": "code",
   "execution_count": null,
   "metadata": {},
   "outputs": [],
   "source": [
    "color = sns.color_palette(\"Spectral_r\")[-1]\n",
    "pg.plot_circmean(df['sw_pp_thr_supzero'], \n",
    "                 kwargs_markers=dict(mec=color, alpha=0.4, mfc='none', ms=7), # figsize=(2.5, 2.5),\n",
    "                 kwargs_arrow={'width': 0.02, 'head_width': 0.15, 'head_length': 0.1, 'fc': 'k', 'ec': 'k'});\n",
    "plt.savefig(\"../output/plots/circ_hist.png\", bbox_inches=\"tight\", dpi=300)"
   ]
  },
  {
   "cell_type": "code",
   "execution_count": null,
   "metadata": {},
   "outputs": [],
   "source": [
    "# Circular correlation with preferred phase\n",
    "display(pg.circ_corrcl(df['sw_pp_thr_supzero'], df['fasting_glucose']))\n",
    "sns.lmplot(data=df, x='sw_pp_thr_supzero', y='fasting_glucose', order=2, height=4.5);"
   ]
  },
  {
   "cell_type": "code",
   "execution_count": null,
   "metadata": {},
   "outputs": [],
   "source": [
    "# Distribution of health variables\n",
    "df[cols_health].hist(bins=15, layout=(4, 6), figsize=(12, 7), grid=False, sharey=True)\n",
    "plt.tight_layout()"
   ]
  },
  {
   "cell_type": "code",
   "execution_count": null,
   "metadata": {},
   "outputs": [],
   "source": [
    "# Distribution of HRV NREM variables\n",
    "df.filter(like=\"hrv\").hist(bins=15, layout=(4, 4), figsize=(9, 7), grid=False, sharey=True)\n",
    "plt.tight_layout()"
   ]
  },
  {
   "cell_type": "code",
   "execution_count": null,
   "metadata": {},
   "outputs": [],
   "source": [
    "# Distribution of coupling variables\n",
    "df[cols_coupling].hist(bins=15, layout=(3, 5), figsize=(9, 6), grid=False, sharey=True)\n",
    "plt.tight_layout()"
   ]
  },
  {
   "cell_type": "code",
   "execution_count": null,
   "metadata": {},
   "outputs": [],
   "source": [
    "corr_coupling = df[cols_coupling].rcorr()\n",
    "corr_coupling"
   ]
  },
  {
   "cell_type": "markdown",
   "metadata": {},
   "source": [
    "### Correlation coupling x health"
   ]
  },
  {
   "cell_type": "code",
   "execution_count": null,
   "metadata": {},
   "outputs": [],
   "source": [
    "(df.pairwise_corr(columns=[['sw_ndpac_prop_supzero'], df_health.columns.tolist()], method=\"spearman\")\n",
    "   [[\"X\", \"Y\", \"n\", \"r\", \"p-unc\"]]\n",
    "   .set_index([\"X\", \"Y\"])\n",
    "   .sort_values('p-unc')\n",
    "   .query(\"`p-unc` < 0.05\")\n",
    "   .round(3))"
   ]
  },
  {
   "cell_type": "code",
   "execution_count": null,
   "metadata": {},
   "outputs": [],
   "source": [
    "plt.figure(figsize=(12, 12))\n",
    "\n",
    "sns.heatmap(\n",
    "    df[cols_health + cols_coupling].corr(method=\"spearman\"), \n",
    "    square=True, vmin=-1, vmax=1, linewidths=1, \n",
    "    cmap=sns.color_palette(\"Spectral_r\", n_colors=8), annot=False, fmt=\".1f\",\n",
    "    cbar_kws={\"shrink\": 0.5, \"label\": \"Correlation coefficient\", \"ticks\": np.arange(-1, 1.25, 0.25)}, \n",
    ")\n",
    "\n",
    "plt.savefig(\"../output/plots/corr_matrix_all.png\", dpi=300, bbox_inches=\"tight\")"
   ]
  },
  {
   "cell_type": "markdown",
   "metadata": {},
   "source": [
    "### Correlation coupling x bandpower"
   ]
  },
  {
   "cell_type": "code",
   "execution_count": null,
   "metadata": {},
   "outputs": [],
   "source": [
    "(df.pairwise_corr(columns=[['sw_ndpac_prop_supzero'], df_spectral.columns.tolist()], method=\"spearman\")\n",
    "   [[\"X\", \"Y\", \"n\", \"r\", \"p-unc\"]]\n",
    "   .set_index([\"X\", \"Y\"])\n",
    "   .sort_values('p-unc')\n",
    "   .query(\"`p-unc` < 0.05\")\n",
    "   .round(3))"
   ]
  },
  {
   "cell_type": "code",
   "execution_count": null,
   "metadata": {},
   "outputs": [],
   "source": [
    "# Same for strength\n",
    "(df.pairwise_corr(columns=[['sw_ndpac_thr_supzero'], df_spectral.columns.tolist()], method=\"spearman\")\n",
    "   [[\"X\", \"Y\", \"n\", \"r\", \"p-unc\"]]\n",
    "   .set_index([\"X\", \"Y\"])\n",
    "   .sort_values('p-unc')\n",
    "   .query(\"`p-unc` < 0.05\")\n",
    "   .round(3))"
   ]
  },
  {
   "cell_type": "markdown",
   "metadata": {},
   "source": [
    "*******\n",
    "\n",
    "## Glucose ~ SO-spi coupling"
   ]
  },
  {
   "cell_type": "code",
   "execution_count": null,
   "metadata": {},
   "outputs": [],
   "source": [
    "def format_pval(x):\n",
    "    if x < 0.001:\n",
    "        return \"p<0.001\"\n",
    "    else:\n",
    "        return f\"p={x:.3f}\""
   ]
  },
  {
   "cell_type": "markdown",
   "metadata": {},
   "source": [
    "### Fasting glucose"
   ]
  },
  {
   "cell_type": "code",
   "execution_count": null,
   "metadata": {},
   "outputs": [],
   "source": [
    "# Fasting glucose\n",
    "corr = (df.pairwise_corr(columns='fasting_glucose', method=\"pearson\", covar='age')\n",
    "   [[\"Y\", \"n\", \"r\", \"p-unc\"]]\n",
    "   .set_index([\"Y\"])\n",
    "   .sort_values('p-unc')\n",
    ")\n",
    "\n",
    "corr.query(\"`p-unc` < 0.05\").round(3)"
   ]
  },
  {
   "cell_type": "code",
   "execution_count": null,
   "metadata": {},
   "outputs": [],
   "source": [
    "plt.figure(figsize=(5, 5))\n",
    "sns.regplot(\n",
    "    x=df[\"fasting_glucose\"], y=df[\"sw_ndpac_prop_supzero\"], \n",
    "    x_partial=df['age'], y_partial=df['age'],\n",
    "    scatter_kws=dict(fc=color, ec=\"k\", lw=1.25, alpha=0.5), \n",
    "    line_kws=dict(color=\"k\"))\n",
    "plt.xlabel(\"Fasting glucose $(\\sqrt{mg/dl})$\")\n",
    "plt.ylabel(\"Prop. of SO with significant coupling\")\n",
    "plt.title(\"CFS\")\n",
    "plt.ylim(0.60, 1)\n",
    "plt.yticks([0.6, 0.7, 0.8, 0.9, 1])\n",
    "\n",
    "# Annotate r and p-values\n",
    "r, pval = corr.loc[\"sw_ndpac_prop_supzero\", [\"r\", \"p-unc\"]]\n",
    "plt.annotate(f'r = {r:.2f}\\n{format_pval(pval)}', xy=(0.95, 0.85), \n",
    "             xycoords=\"axes fraction\", ha=\"right\", fontweight=\"bold\")\n",
    "\n",
    "plt.tight_layout()\n",
    "\n",
    "# plt.savefig(\"../output/plots/corr_fasting_prop.png\", dpi=300, bbox_inches=\"tight\")"
   ]
  },
  {
   "cell_type": "code",
   "execution_count": null,
   "metadata": {},
   "outputs": [],
   "source": [
    "plt.figure(figsize=(5, 5))\n",
    "sns.regplot(\n",
    "    x=df[\"fasting_glucose\"], y=df[\"sw_ndpac_thr_supzero\"], \n",
    "    x_partial=df['age'], y_partial=df['age'],\n",
    "    scatter_kws=dict(fc=color, ec=\"k\", lw=1.25, alpha=0.5), \n",
    "    line_kws=dict(color=\"k\"))\n",
    "plt.xlabel(\"Fasting glucose $(\\sqrt{mg/dl})$\")\n",
    "plt.ylabel(\"SO—sigma coupling strength\")\n",
    "plt.ylim(0.24, 0.40)\n",
    "plt.yticks([0.24, 0.28, 0.32, 0.36, 0.40]);\n",
    "\n",
    "# Annotate r and p-values\n",
    "r, pval = corr.loc[\"sw_ndpac_thr_supzero\", [\"r\", \"p-unc\"]]\n",
    "plt.annotate(f'r = {r:.2f}\\n{format_pval(pval)}', xy=(0.95, 0.85), \n",
    "             xycoords=\"axes fraction\", ha=\"right\", fontweight=\"bold\")\n",
    "\n",
    "plt.tight_layout()\n",
    "\n",
    "# plt.savefig(\"../output/plots/corr_fasting_ndpac.png\", dpi=300, bbox_inches=\"tight\")"
   ]
  },
  {
   "cell_type": "markdown",
   "metadata": {},
   "source": [
    "### OGTT"
   ]
  },
  {
   "cell_type": "code",
   "execution_count": null,
   "metadata": {},
   "outputs": [],
   "source": [
    "# OGTT\n",
    "corr_ogtt = (df.pairwise_corr(columns='ogtt', method=\"pearson\", covar='age')  # covar=['age', 'male']\n",
    "   [[\"Y\", \"n\", \"r\", \"p-unc\"]]\n",
    "   .set_index([\"Y\"])\n",
    "   .sort_values('p-unc')\n",
    ")\n",
    "\n",
    "corr_ogtt.query(\"`p-unc` < 0.05\").round(3)"
   ]
  },
  {
   "cell_type": "code",
   "execution_count": null,
   "metadata": {},
   "outputs": [],
   "source": [
    "plt.figure(figsize=(5, 5))\n",
    "sns.regplot(\n",
    "    x=df[\"ogtt\"], y=df[\"sw_ndpac_prop_supzero\"], \n",
    "    x_partial=df['age'], y_partial=df['age'],\n",
    "    scatter_kws=dict(fc=color, ec=\"k\", lw=1.25, alpha=0.5), \n",
    "    line_kws=dict(color=\"k\"))\n",
    "plt.xlabel(\"Post-OGTT glucose $(\\sqrt{mg/dl})$\")\n",
    "plt.ylabel(\"Prop. of SO with significant coupling\")\n",
    "plt.ylim(0.60, 1)\n",
    "plt.yticks([0.6, 0.7, 0.8, 0.9, 1])\n",
    "\n",
    "# Annotate r and p-values\n",
    "r, pval = corr_ogtt.loc[\"sw_ndpac_prop_supzero\", [\"r\", \"p-unc\"]]\n",
    "plt.annotate(f'r = {r:.2f}\\n{format_pval(pval)}', xy=(0.95, 0.85), \n",
    "             xycoords=\"axes fraction\", ha=\"right\", fontweight=\"bold\")\n",
    "\n",
    "plt.tight_layout()\n",
    "\n",
    "plt.savefig(\"../output/plots/corr_ogtt_prop.png\", dpi=300, bbox_inches=\"tight\")"
   ]
  },
  {
   "cell_type": "code",
   "execution_count": null,
   "metadata": {},
   "outputs": [],
   "source": [
    "plt.figure(figsize=(5, 5))\n",
    "sns.regplot(\n",
    "    x=df[\"ogtt\"], y=df[\"sw_ndpac_thr_supzero\"], \n",
    "    x_partial=df['age'], y_partial=df['age'],\n",
    "    scatter_kws=dict(fc=color, ec=\"k\", lw=1.25, alpha=0.5), \n",
    "    line_kws=dict(color=\"k\"))\n",
    "plt.xlabel(\"Post-OGTT glucose $(\\sqrt{mg/dl})$\")\n",
    "plt.ylabel(\"SO—sigma coupling strength\")\n",
    "plt.ylim(0.24, 0.40)\n",
    "plt.yticks([0.24, 0.28, 0.32, 0.36, 0.40]);\n",
    "\n",
    "# Annotate r and p-values\n",
    "r, pval = corr_ogtt.loc[\"sw_ndpac_thr_supzero\", [\"r\", \"p-unc\"]]\n",
    "plt.annotate(f'r = {r:.2f}\\n{format_pval(pval)}', xy=(0.95, 0.85), \n",
    "             xycoords=\"axes fraction\", ha=\"right\", fontweight=\"bold\")\n",
    "\n",
    "plt.tight_layout()\n",
    "\n",
    "plt.savefig(\"../output/plots/corr_ogtt_ndpac.png\", dpi=300, bbox_inches=\"tight\")"
   ]
  },
  {
   "cell_type": "markdown",
   "metadata": {},
   "source": [
    "### HOMA-IR"
   ]
  },
  {
   "cell_type": "code",
   "execution_count": null,
   "metadata": {},
   "outputs": [],
   "source": [
    "# HOMA\n",
    "corr_homa = (df.pairwise_corr(columns='homa', method=\"pearson\", covar='age')\n",
    "   [[\"Y\", \"n\", \"r\", \"p-unc\"]]\n",
    "   .set_index([\"Y\"])\n",
    "   .sort_values('p-unc')\n",
    ")\n",
    "\n",
    "corr_homa.query(\"`p-unc` < 0.05\").round(3)"
   ]
  },
  {
   "cell_type": "code",
   "execution_count": null,
   "metadata": {},
   "outputs": [],
   "source": [
    "plt.figure(figsize=(5, 5))\n",
    "sns.regplot(\n",
    "    x=df[\"homa\"], y=df[\"sw_ndpac_prop_supzero\"], \n",
    "    x_partial=df['age'], y_partial=df['age'],\n",
    "    scatter_kws=dict(fc=color, ec=\"k\", lw=1.25, alpha=0.5), \n",
    "    line_kws=dict(color=\"k\"))\n",
    "plt.xlabel(\"$\\\\log$(HOMA-IR)\")\n",
    "plt.ylabel(\"Prop. of SO with significant coupling\")\n",
    "plt.ylim(0.60, 1)\n",
    "plt.yticks([0.6, 0.7, 0.8, 0.9, 1])\n",
    "\n",
    "# Annotate r and p-values\n",
    "r, pval = corr_homa.loc[\"sw_ndpac_prop_supzero\", [\"r\", \"p-unc\"]]\n",
    "plt.annotate(f'r = {r:.2f}\\n{format_pval(pval)}', xy=(0.95, 0.85), \n",
    "             xycoords=\"axes fraction\", ha=\"right\", fontweight=\"bold\")\n",
    "\n",
    "plt.tight_layout()\n",
    "\n",
    "plt.savefig(\"../output/plots/corr_homa_prop.png\", dpi=300, bbox_inches=\"tight\")"
   ]
  },
  {
   "cell_type": "code",
   "execution_count": null,
   "metadata": {},
   "outputs": [],
   "source": [
    "plt.figure(figsize=(5, 5))\n",
    "sns.regplot(\n",
    "    x=df[\"homa\"], y=df[\"sw_ndpac_thr_supzero\"], \n",
    "    x_partial=df['age'], y_partial=df['age'],\n",
    "    scatter_kws=dict(fc=color, ec=\"k\", lw=1.25, alpha=0.5), \n",
    "    line_kws=dict(color=\"k\"))\n",
    "plt.xlabel(\"$\\\\log$(HOMA-IR)\")\n",
    "plt.ylabel(\"SO—sigma coupling strength\")\n",
    "plt.ylim(0.24, 0.40)\n",
    "plt.yticks([0.24, 0.28, 0.32, 0.36, 0.40]);\n",
    "\n",
    "# Annotate r and p-values\n",
    "r, pval = corr_homa.loc[\"sw_ndpac_thr_supzero\", [\"r\", \"p-unc\"]]\n",
    "plt.annotate(f'r = {r:.2f}\\n{format_pval(pval)}', xy=(0.95, 0.85), \n",
    "             xycoords=\"axes fraction\", ha=\"right\", fontweight=\"bold\")\n",
    "\n",
    "plt.tight_layout()\n",
    "\n",
    "plt.savefig(\"../output/plots/corr_homa_ndpac.png\", dpi=300, bbox_inches=\"tight\")"
   ]
  },
  {
   "cell_type": "markdown",
   "metadata": {},
   "source": [
    "### HOMA-B"
   ]
  },
  {
   "cell_type": "code",
   "execution_count": null,
   "metadata": {},
   "outputs": [],
   "source": [
    "# HOMA-B\n",
    "corr_homab = (df.pairwise_corr(columns='homab', method=\"pearson\", covar='age')\n",
    "   [[\"Y\", \"n\", \"r\", \"p-unc\"]]\n",
    "   .set_index([\"Y\"])\n",
    "   .sort_values('p-unc')\n",
    ")\n",
    "\n",
    "corr_homab.query(\"`p-unc` < 0.05\").round(3)"
   ]
  },
  {
   "cell_type": "code",
   "execution_count": null,
   "metadata": {},
   "outputs": [],
   "source": [
    "corr_homab.xs(\"sw_ndpac_prop_supzero\").round(3)"
   ]
  },
  {
   "cell_type": "code",
   "execution_count": null,
   "metadata": {},
   "outputs": [],
   "source": [
    "corr_homab.xs(\"sw_ndpac_thr_supzero\").round(3)"
   ]
  },
  {
   "cell_type": "code",
   "execution_count": null,
   "metadata": {},
   "outputs": [],
   "source": [
    "plt.figure(figsize=(5, 5))\n",
    "sns.regplot(\n",
    "    x=df[\"homab\"], y=df[\"sw_ndpac_prop_supzero\"], \n",
    "    x_partial=df['age'], y_partial=df['age'],\n",
    "    scatter_kws=dict(fc=color, ec=\"k\", lw=1.25, alpha=0.5), \n",
    "    line_kws=dict(color=\"k\"))\n",
    "plt.xlabel(\"$\\\\log$(HOMA-B)\")\n",
    "plt.ylabel(\"Prop. of SO with significant coupling\")\n",
    "plt.ylim(0.60, 1)\n",
    "plt.yticks([0.6, 0.7, 0.8, 0.9, 1])\n",
    "\n",
    "# Annotate r and p-values\n",
    "r, pval = corr_homab.loc[\"sw_ndpac_prop_supzero\", [\"r\", \"p-unc\"]]\n",
    "plt.annotate(f'r = {r:.2f}\\n{format_pval(pval)}', xy=(0.95, 0.85), \n",
    "             xycoords=\"axes fraction\", ha=\"right\", fontweight=\"bold\")\n",
    "\n",
    "plt.tight_layout()\n",
    "\n",
    "plt.savefig(\"../output/plots/corr_homab_prop.png\", dpi=300, bbox_inches=\"tight\")"
   ]
  },
  {
   "cell_type": "code",
   "execution_count": null,
   "metadata": {},
   "outputs": [],
   "source": [
    "plt.figure(figsize=(5, 5))\n",
    "sns.regplot(\n",
    "    x=df[\"homab\"], y=df[\"sw_ndpac_thr_supzero\"], \n",
    "    x_partial=df['age'], y_partial=df['age'],\n",
    "    scatter_kws=dict(fc=color, ec=\"k\", lw=1.25, alpha=0.5), \n",
    "    line_kws=dict(color=\"k\"))\n",
    "plt.xlabel(\"$\\\\log$(HOMA-B)\")\n",
    "plt.ylabel(\"SO—sigma coupling strength\")\n",
    "plt.ylim(0.24, 0.40)\n",
    "plt.yticks([0.24, 0.28, 0.32, 0.36, 0.40]);\n",
    "\n",
    "# Annotate r and p-values\n",
    "r, pval = corr_homab.loc[\"sw_ndpac_thr_supzero\", [\"r\", \"p-unc\"]]\n",
    "plt.annotate(f'r = {r:.2f}\\n{format_pval(pval)}', xy=(0.95, 0.85), \n",
    "             xycoords=\"axes fraction\", ha=\"right\", fontweight=\"bold\")\n",
    "\n",
    "plt.tight_layout()\n",
    "\n",
    "plt.savefig(\"../output/plots/corr_homab_ndpac.png\", dpi=300, bbox_inches=\"tight\")"
   ]
  },
  {
   "cell_type": "markdown",
   "metadata": {},
   "source": [
    "*******\n",
    "\n",
    "## Export"
   ]
  },
  {
   "cell_type": "code",
   "execution_count": null,
   "metadata": {},
   "outputs": [],
   "source": [
    "df.to_csv(\"../output/csv/df_concat_R_1sec_CFS.csv\")"
   ]
  }
 ],
 "metadata": {
  "kernelspec": {
   "display_name": "Python 3 (ipykernel)",
   "language": "python",
   "name": "python3"
  },
  "language_info": {
   "codemirror_mode": {
    "name": "ipython",
    "version": 3
   },
   "file_extension": ".py",
   "mimetype": "text/x-python",
   "name": "python",
   "nbconvert_exporter": "python",
   "pygments_lexer": "ipython3",
   "version": "3.9.6"
  }
 },
 "nbformat": 4,
 "nbformat_minor": 4
}
