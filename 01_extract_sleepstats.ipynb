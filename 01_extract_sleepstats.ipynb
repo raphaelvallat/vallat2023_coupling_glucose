{
 "cells": [
  {
   "cell_type": "markdown",
   "metadata": {},
   "source": [
    "# NSRR Sleep Statistics"
   ]
  },
  {
   "cell_type": "code",
   "execution_count": null,
   "metadata": {},
   "outputs": [],
   "source": [
    "import os\n",
    "import glob\n",
    "import yasa\n",
    "import warnings\n",
    "import numpy as np\n",
    "import pandas as pd\n",
    "from tqdm.notebook import tqdm\n",
    "\n",
    "from helper_functions import get_sub_visit_hyp\n",
    "\n",
    "# Define paths\n",
    "root_dir = '/Volumes/NSRR/'"
   ]
  },
  {
   "cell_type": "code",
   "execution_count": null,
   "metadata": {},
   "outputs": [],
   "source": [
    "df = []\n",
    "\n",
    "for dataset in ['mesa', 'cfs']:\n",
    "    \n",
    "    # Extract all EDF files\n",
    "    all_edfs, hypno_dir = get_all_edfs(dataset, root_dir)\n",
    "\n",
    "    for eeg_file in tqdm(all_edfs):\n",
    "    \n",
    "        # Extract subject, visit and hypno_file from fname\n",
    "        sub, visit, hypno_file = get_sub_visit_hyp(eeg_file, dataset, hypno_dir)\n",
    "\n",
    "        # Check that file exists\n",
    "        if not os.path.isfile(eeg_file):\n",
    "            warnings.warn(\"File not found %s\" % eeg_file)\n",
    "            continue\n",
    "        if not os.path.isfile(hypno_file):\n",
    "            warnings.warn(\"File not found %s\" % hypno_file)\n",
    "            continue\n",
    "\n",
    "        # LOAD HYPNOGRAM\n",
    "        hypno, _ = yasa.load_profusion_hypno(hypno_file)\n",
    "        if not len(hypno[hypno > 0]):\n",
    "            continue\n",
    "\n",
    "        # Calculate sleep statistics\n",
    "        sstats = yasa.sleep_statistics(hypno, 1/30)\n",
    "\n",
    "        sstats = pd.DataFrame(sstats, index=[sub])\n",
    "        sstats.index.name = \"subj\"\n",
    "        sstats = sstats.add_prefix(\"sstats_\")\n",
    "        sstats.insert(0, \"dataset\", dataset)\n",
    "        sstats.insert(1, \"visit\", visit)\n",
    "        sstats.columns = sstats.columns.str.replace(\"%\", \"p\")\n",
    "\n",
    "        # Append to main dataframe\n",
    "        df.append(sstats)"
   ]
  },
  {
   "cell_type": "code",
   "execution_count": null,
   "metadata": {},
   "outputs": [],
   "source": [
    "df = pd.concat(df).reset_index().set_index(['dataset', 'subj', 'visit'])\n",
    "df.round(3)"
   ]
  },
  {
   "cell_type": "code",
   "execution_count": null,
   "metadata": {},
   "outputs": [],
   "source": [
    "# Show missing values\n",
    "df.isna().sum()"
   ]
  },
  {
   "cell_type": "code",
   "execution_count": null,
   "metadata": {},
   "outputs": [],
   "source": [
    "df.groupby(level=0).mean().round(1).T"
   ]
  },
  {
   "cell_type": "code",
   "execution_count": null,
   "metadata": {},
   "outputs": [],
   "source": [
    "df.to_csv(\"output/csv/df_sleepstats.csv\")"
   ]
  }
 ],
 "metadata": {
  "kernelspec": {
   "display_name": "Python 3 (ipykernel)",
   "language": "python",
   "name": "python3"
  },
  "language_info": {
   "codemirror_mode": {
    "name": "ipython",
    "version": 3
   },
   "file_extension": ".py",
   "mimetype": "text/x-python",
   "name": "python",
   "nbconvert_exporter": "python",
   "pygments_lexer": "ipython3",
   "version": "3.9.6"
  }
 },
 "nbformat": 4,
 "nbformat_minor": 4
}
