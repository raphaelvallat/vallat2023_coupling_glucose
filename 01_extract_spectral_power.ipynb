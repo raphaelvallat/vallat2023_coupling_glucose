{
 "cells": [
  {
   "cell_type": "markdown",
   "metadata": {},
   "source": [
    "# NSRR Spectral Power"
   ]
  },
  {
   "cell_type": "code",
   "execution_count": null,
   "metadata": {},
   "outputs": [],
   "source": [
    "import os\n",
    "import glob\n",
    "import yasa\n",
    "import warnings\n",
    "import numpy as np\n",
    "import pandas as pd\n",
    "from tqdm.notebook import tqdm\n",
    "from mne.io import read_raw_edf\n",
    "from mne.filter import filter_data\n",
    "\n",
    "from helper_functions import get_sub_visit_hyp\n",
    "\n",
    "# Define paths\n",
    "root_dir = '/Volumes/NSRR/'"
   ]
  },
  {
   "cell_type": "code",
   "execution_count": null,
   "metadata": {},
   "outputs": [],
   "source": [
    "df = []\n",
    "sf = 100\n",
    "\n",
    "for dataset in ['mesa', 'cfs']:\n",
    "    \n",
    "    # Extract all EDF files\n",
    "    all_edfs, hypno_dir = get_all_edfs(dataset, root_dir)\n",
    "    \n",
    "    # Include\n",
    "    if dataset == \"mesa\":\n",
    "        include = [\"EEG3\"]\n",
    "    elif dataset == \"cfs\":\n",
    "        include = [\"C3\"]\n",
    "\n",
    "    for eeg_file in tqdm(all_edfs):\n",
    "\n",
    "        #################################\n",
    "        # DATA LOADING\n",
    "        #################################\n",
    "        \n",
    "        # Extract subject, visit and hypno_file from fname\n",
    "        sub, visit, hypno_file = get_sub_visit_hyp(eeg_file, dataset, hypno_dir)\n",
    "\n",
    "        # Check that file exists\n",
    "        if not os.path.isfile(eeg_file):\n",
    "            warnings.warn(\"File not found %s\" % eeg_file)\n",
    "            continue\n",
    "        if not os.path.isfile(hypno_file):\n",
    "            warnings.warn(\"File not found %s\" % hypno_file)\n",
    "            continue\n",
    "\n",
    "        # LOAD EEG DATA\n",
    "        try:\n",
    "            raw = read_raw_edf(eeg_file, preload=False, verbose=0)\n",
    "            raw.drop_channels(np.setdiff1d(raw.info['ch_names'], include))\n",
    "            raw.load_data()\n",
    "        except:\n",
    "            continue\n",
    "\n",
    "        # Resample to 100 Hz and bandpass filter\n",
    "        raw.resample(sf, npad=\"auto\")\n",
    "        raw.filter(0.5, 30)\n",
    "\n",
    "        # LOAD HYPNOGRAM\n",
    "        hypno, _ = yasa.load_profusion_hypno(hypno_file)\n",
    "        if not len(hypno[hypno > 0]):\n",
    "            continue\n",
    "\n",
    "        # Upsample hypno\n",
    "        sf_hyp = 1 / 30\n",
    "        hypno_up = yasa.hypno_upsample_to_data(hypno, sf_hyp, raw)\n",
    "        hypno_NREM = pd.Series(hypno).replace({2: 6, 3: 6}).to_numpy()\n",
    "        hypno_NREM_up = yasa.hypno_upsample_to_data(hypno_NREM, sf_hyp, raw)\n",
    "\n",
    "        # Extract C4-M1 data \n",
    "        # http://zzz.bwh.harvard.edu/luna/vignettes/nsrr-polarity/\n",
    "        data = (raw.get_data()[0]) * 1e6\n",
    "        data *= -1\n",
    "\n",
    "        #################################\n",
    "        # SPECTRAL POWERS\n",
    "        #################################\n",
    "\n",
    "        bands = [\n",
    "            (0.5, 1.25, 'sdelta'),  # sdelta is 1.25 Hz (max SO frequency)\n",
    "            (1.25, 4, 'fdelta'), \n",
    "            (4, 8, 'theta'),\n",
    "            (8, 12, 'alpha'),\n",
    "            (12, 16, 'sigma'),\n",
    "            (16, 30, 'beta')  # Do not include gamma because of bandpass filter\n",
    "        ]\n",
    "\n",
    "        bp = yasa.bandpower(data, sf, ch_names=[\"EEG\"], hypno=hypno_up, include=(2, 3, 4), bands=bands)\n",
    "        bp_NREM = yasa.bandpower(data, sf, ch_names=[\"EEG\"], hypno=hypno_NREM_up, include=(6), bands=bands)\n",
    "        bp = bp.append(bp_NREM)\n",
    "        bp.rename(columns={\"TotalAbsPow\": \"total_pow\"}, inplace=True)\n",
    "        bp = bp.add_prefix(\"bp_\")\n",
    "        bp['subj'] = sub\n",
    "        bp['dataset'] = dataset\n",
    "        bp['visit'] = visit\n",
    "        bp = bp.reset_index()\n",
    "        bp.columns = bp.columns.str.lower()\n",
    "        bp.drop(columns=['bp_freqres', 'bp_relative'], inplace=True)\n",
    "        bp['stage'] = bp['stage'].replace({2: \"N2\", 3: \"N3\", 4: \"REM\", 6: \"NREM\"})\n",
    "        bp = bp.pivot_table(index=['dataset', 'subj', 'visit'], columns='stage')\n",
    "        bp.columns = ['_'.join(col).strip() for col in bp.columns.values]\n",
    "    \n",
    "        df.append(bp)"
   ]
  },
  {
   "cell_type": "code",
   "execution_count": null,
   "metadata": {},
   "outputs": [],
   "source": [
    "df = pd.concat(df)\n",
    "df.round(3)"
   ]
  },
  {
   "cell_type": "code",
   "execution_count": null,
   "metadata": {},
   "outputs": [],
   "source": [
    "df.to_csv(\"output/csv/df_spectral.csv\")"
   ]
  }
 ],
 "metadata": {
  "kernelspec": {
   "display_name": "Python 3 (ipykernel)",
   "language": "python",
   "name": "python3"
  },
  "language_info": {
   "codemirror_mode": {
    "name": "ipython",
    "version": 3
   },
   "file_extension": ".py",
   "mimetype": "text/x-python",
   "name": "python",
   "nbconvert_exporter": "python",
   "pygments_lexer": "ipython3",
   "version": "3.9.6"
  }
 },
 "nbformat": 4,
 "nbformat_minor": 4
}
