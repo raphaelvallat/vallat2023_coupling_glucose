{
 "cells": [
  {
   "cell_type": "code",
   "execution_count": null,
   "metadata": {},
   "outputs": [],
   "source": [
    "import pandas as pd\n",
    "from scipy.stats import ttest_ind\n",
    "import seaborn as sns\n",
    "import matplotlib.pyplot as plt\n",
    "sns.set(font_scale=1.25)"
   ]
  },
  {
   "cell_type": "code",
   "execution_count": null,
   "metadata": {},
   "outputs": [],
   "source": [
    "df = pd.read_csv(\"output/csv/df_concat_R_1sec_CFS.csv\")\n",
    "df.head()"
   ]
  },
  {
   "cell_type": "code",
   "execution_count": null,
   "metadata": {},
   "outputs": [],
   "source": [
    "corr = df.corr()\n",
    "corr.head().round()"
   ]
  },
  {
   "cell_type": "code",
   "execution_count": null,
   "metadata": {},
   "outputs": [],
   "source": [
    "# Correlation between glucose variables\n",
    "cols_glucose = ['fasting_glucose', 'ogtt', 'homa', 'homab']\n",
    "\n",
    "corr.loc[cols_glucose, cols_glucose].round(3)"
   ]
  },
  {
   "cell_type": "markdown",
   "metadata": {},
   "source": [
    "*********\n",
    "\n",
    "## HOMA-IR"
   ]
  },
  {
   "cell_type": "code",
   "execution_count": null,
   "metadata": {},
   "outputs": [],
   "source": [
    "c1 = sns.color_palette(\"Spectral_r\")[0]\n",
    "c2 = sns.color_palette(\"Spectral_r\")[-1]"
   ]
  },
  {
   "cell_type": "code",
   "execution_count": null,
   "metadata": {},
   "outputs": [],
   "source": [
    "plt.figure(figsize=(2, 4))\n",
    "\n",
    "sns.boxplot(data=df, y=\"homa\", x=\"diabetes_cfs\", palette=[c1, c2], \n",
    "            width=0.6, notch=True, showfliers=False)\n",
    "\n",
    "sns.stripplot(data=df, y=\"homa\", x=\"diabetes_cfs\", alpha=0.5, lw=1, s=2, ec='k', palette=[c1, c2], zorder=-20)\n",
    "\n",
    "\n",
    "plt.ylabel(\"$\\\\log$(HOMA-IR)\")\n",
    "plt.ylim(-2, 5)\n",
    "_, pval = ttest_ind(\n",
    "    df[df['diabetes_cfs']==0]['homa'], \n",
    "    df[df['diabetes_cfs']==1]['homa'], nan_policy=\"omit\", equal_var=False)\n",
    "\n",
    "plt.annotate(f\"p={pval:.1e}\", xy=(0.55, 0.05), va=\"center\", ha=\"center\", xycoords=\"axes fraction\", fontstyle=\"italic\")\n",
    "plt.xlabel(\"Diabetes\");\n",
    "plt.xticks([0, 1], [0, 1]);\n",
    "\n",
    "plt.savefig(\"output/plots/homa_diabetes.png\", dpi=300, bbox_inches=\"tight\")"
   ]
  },
  {
   "cell_type": "code",
   "execution_count": null,
   "metadata": {},
   "outputs": [],
   "source": [
    "plt.figure(figsize=(4, 4))\n",
    "sns.histplot(df['homa'], color=\"k\", lw=1, ec='w', alpha=0.8);\n",
    "plt.xlabel(\"$\\\\log$(HOMA-IR)\")\n",
    "plt.ylabel(\"Number of participants\")\n",
    "plt.xlim(-2, 5)\n",
    "plt.savefig(\"output/plots/homa_hist.png\", dpi=300, bbox_inches=\"tight\")"
   ]
  },
  {
   "cell_type": "code",
   "execution_count": null,
   "metadata": {},
   "outputs": [],
   "source": [
    "plt.figure(figsize=(4, 4))\n",
    "sns.regplot(data=df, y=\"homa\", x=\"fasting_glucose\", color=\"k\", scatter_kws=dict(alpha=0.5, s=60, lw=1, ec=\"w\"))\n",
    "plt.ylabel(\"$\\\\log$(HOMA-IR)\")\n",
    "plt.ylim(-2, 5)\n",
    "plt.annotate(f\"$R^2 = {corr.at['homa', 'fasting_glucose']**2:.2f}$\", xy=(0.1, 0.8), xycoords=\"axes fraction\", fontweight=\"normal\")\n",
    "plt.xlabel(\"Fasting glucose\");\n",
    "plt.savefig(\"output/plots/corr_homa_glucose.png\", dpi=300, bbox_inches=\"tight\")"
   ]
  },
  {
   "cell_type": "markdown",
   "metadata": {},
   "source": [
    "*********\n",
    "\n",
    "## HOMA-B"
   ]
  },
  {
   "cell_type": "code",
   "execution_count": null,
   "metadata": {},
   "outputs": [],
   "source": [
    "plt.figure(figsize=(2, 4))\n",
    "\n",
    "sns.boxplot(data=df, y=\"homab\", x=\"diabetes_cfs\", palette=[c1, c2], \n",
    "            width=0.6, notch=True, showfliers=False)\n",
    "\n",
    "sns.stripplot(data=df, y=\"homab\", x=\"diabetes_cfs\", alpha=0.5, lw=1, s=2, ec='k', palette=[c1, c2], zorder=-20)\n",
    "\n",
    "plt.ylabel(\"$\\\\log$(HOMA-B)\")\n",
    "plt.ylim(2, 8)\n",
    "_, pval = ttest_ind(\n",
    "    df[df['diabetes_cfs']==0]['homab'], \n",
    "    df[df['diabetes_cfs']==1]['homab'], \n",
    "    nan_policy=\"omit\", equal_var=False)\n",
    "plt.annotate(f\"p={pval:.1e}\", xy=(0.55, 0.05), va=\"center\", ha=\"center\", xycoords=\"axes fraction\", fontstyle=\"italic\")\n",
    "plt.xlabel(\"Diabetes\");\n",
    "plt.xticks([0, 1], [0, 1]);\n",
    "\n",
    "plt.savefig(\"output/plots/homab_diabetes.png\", dpi=300, bbox_inches=\"tight\")"
   ]
  },
  {
   "cell_type": "code",
   "execution_count": null,
   "metadata": {},
   "outputs": [],
   "source": [
    "plt.figure(figsize=(4, 4))\n",
    "sns.regplot(data=df, y=\"homab\", x=\"fasting_glucose\", color=\"k\", scatter_kws=dict(alpha=0.5, s=60, lw=1, ec=\"w\"))\n",
    "plt.ylabel(\"$\\\\log$(HOMA-B)\")\n",
    "plt.ylim(2, 8)\n",
    "plt.annotate(f\"$R^2 = {corr.at['homab', 'fasting_glucose']**2:.2f}$\", xy=(0.6, 0.8), xycoords=\"axes fraction\", fontweight=\"normal\")\n",
    "plt.xlabel(\"Fasting glucose\");\n",
    "plt.savefig(\"output/plots/corr_homab_glucose.png\", dpi=300, bbox_inches=\"tight\")"
   ]
  }
 ],
 "metadata": {
  "kernelspec": {
   "display_name": "Python 3 (ipykernel)",
   "language": "python",
   "name": "python3"
  },
  "language_info": {
   "codemirror_mode": {
    "name": "ipython",
    "version": 3
   },
   "file_extension": ".py",
   "mimetype": "text/x-python",
   "name": "python",
   "nbconvert_exporter": "python",
   "pygments_lexer": "ipython3",
   "version": "3.9.6"
  }
 },
 "nbformat": 4,
 "nbformat_minor": 4
}
