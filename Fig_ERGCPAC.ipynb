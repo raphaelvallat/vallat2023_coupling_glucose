{
 "cells": [
  {
   "cell_type": "code",
   "execution_count": null,
   "id": "b3916b43",
   "metadata": {},
   "outputs": [],
   "source": [
    "import numpy as np\n",
    "import pandas as pd\n",
    "import matplotlib.pyplot as plt\n",
    "import seaborn as sns\n",
    "from scipy.stats import zscore\n",
    "from scipy.stats import trim_mean\n",
    "sns.set(style=\"white\", font_scale=1.25)"
   ]
  },
  {
   "cell_type": "code",
   "execution_count": null,
   "id": "1f4db055",
   "metadata": {},
   "outputs": [],
   "source": [
    "df_erpac = pd.read_parquet(\"output/csv/df_cfs_ERGCPAC_inverted.parquet\")\n",
    "print(df_erpac.shape)\n",
    "df_erpac.head()"
   ]
  },
  {
   "cell_type": "code",
   "execution_count": null,
   "id": "438464b1",
   "metadata": {},
   "outputs": [],
   "source": [
    "# Keep only specific time\n",
    "df_erpac.reset_index(inplace=True)\n",
    "df_erpac['time'] = -1 * (df_erpac['time'].max() / 2 - df_erpac['time'])\n",
    "df_erpac = df_erpac.set_index(['subj', 'time']).sort_index()\n",
    "\n",
    "df_erpac = df_erpac.loc[(slice(None), slice(-1, 1)), :]"
   ]
  },
  {
   "cell_type": "code",
   "execution_count": null,
   "id": "bc1d6048",
   "metadata": {},
   "outputs": [],
   "source": [
    "# Choose ERPAC method to keep (\"circ\" or \"gc\")\n",
    "method = \"circ\"\n",
    "tmp = df_erpac.filter(like=method)\n",
    "tmp.columns = tmp.columns.str.strip(method + \"_\")\n",
    "df_erpac = df_erpac.loc[:, [\"avg_sw\"]].join(tmp)\n",
    "df_erpac.head().round(3)"
   ]
  },
  {
   "cell_type": "code",
   "execution_count": null,
   "id": "ddd0a8c2",
   "metadata": {},
   "outputs": [],
   "source": [
    "# Remove frequencies from 5-10 Hz\n",
    "df_erpac.drop(columns=np.arange(5, 10, 0.5).astype(str), inplace=True)\n",
    "df_erpac.drop(columns=np.arange(22.5, 25.5, 0.5).astype(str), inplace=True)"
   ]
  },
  {
   "cell_type": "code",
   "execution_count": null,
   "id": "88eedcca",
   "metadata": {},
   "outputs": [],
   "source": [
    "unique_subj = df_erpac.index.get_level_values(0).unique()\n",
    "n_subj = len(unique_subj)\n",
    "n_freqs = df_erpac.iloc[:, 1:].shape[1]\n",
    "n_times = df_erpac.index.get_level_values(1).nunique()\n",
    "print(n_subj, n_freqs, n_times)"
   ]
  },
  {
   "cell_type": "code",
   "execution_count": null,
   "id": "282afba3",
   "metadata": {},
   "outputs": [],
   "source": [
    "# Convert to a numpy array and z-score\n",
    "data = np.empty((n_subj, n_freqs, n_times))\n",
    "data_sw = np.empty((n_subj, n_times))\n",
    "\n",
    "for i, sub in enumerate(unique_subj):\n",
    "    data[i] = df_erpac.xs(sub, level=0).iloc[:, 1:].to_numpy().T\n",
    "    data_sw[i] = df_erpac.xs(sub, level=0).loc[:, \"avg_sw\"].to_numpy()\n",
    "    # Z-score\n",
    "    data[i] = zscore(data[i], axis=None)\n",
    "    data_sw[i] = zscore(data_sw[i])\n",
    "    \n",
    "print(data.shape, data_sw.shape)"
   ]
  },
  {
   "cell_type": "code",
   "execution_count": null,
   "id": "8ab9042a",
   "metadata": {},
   "outputs": [],
   "source": [
    "# Average across subject\n",
    "data_avg = trim_mean(data, proportiontocut=0.05, axis=0)\n",
    "data_sw_avg = trim_mean(data_sw, proportiontocut=0, axis=0)\n",
    "data_avg.shape, data_sw_avg.shape"
   ]
  },
  {
   "cell_type": "code",
   "execution_count": null,
   "id": "cc89a3eb",
   "metadata": {},
   "outputs": [],
   "source": [
    "xvec = df_erpac.index.get_level_values(1).unique().to_numpy()\n",
    "yvec = df_erpac.iloc[:, 1:].columns.to_numpy().astype(float)"
   ]
  },
  {
   "cell_type": "code",
   "execution_count": null,
   "id": "1cf37b7e",
   "metadata": {},
   "outputs": [],
   "source": [
    "fig, ax = plt.subplots(figsize=(6, 5), dpi=100)\n",
    "\n",
    "im = plt.imshow(data_avg, aspect='auto', cmap=\"Spectral_r\", origin='upper',\n",
    "                interpolation=\"gaussian\", \n",
    "                vmin=-0.2, vmax=1,\n",
    "                extent=[xvec[0], xvec[-1], yvec[-1], yvec[0]])\n",
    "\n",
    "plt.gca().invert_yaxis()\n",
    "\n",
    "plt.xlabel(\"Time from negative peak of SO (sec)\")\n",
    "plt.ylabel(\"Frequency (Hz)\")\n",
    "plt.axvline(0, ls=\":\", lw=1.5, color=\"k\")\n",
    "\n",
    "cb = plt.colorbar(im, shrink=0.7, pad=0.05, aspect=20)\n",
    "cb.set_label(\"Coupling (z-score)\")\n",
    "cb.outline.set_visible(False)\n",
    "\n",
    "ax_sw = ax.twinx()\n",
    "ax_sw.plot(xvec, data_sw_avg, color=\"k\", lw=3)\n",
    "ax_sw.set_yticks([]);"
   ]
  }
 ],
 "metadata": {
  "kernelspec": {
   "display_name": "Python 3 (ipykernel)",
   "language": "python",
   "name": "python3"
  },
  "language_info": {
   "codemirror_mode": {
    "name": "ipython",
    "version": 3
   },
   "file_extension": ".py",
   "mimetype": "text/x-python",
   "name": "python",
   "nbconvert_exporter": "python",
   "pygments_lexer": "ipython3",
   "version": "3.9.6"
  }
 },
 "nbformat": 4,
 "nbformat_minor": 5
}
