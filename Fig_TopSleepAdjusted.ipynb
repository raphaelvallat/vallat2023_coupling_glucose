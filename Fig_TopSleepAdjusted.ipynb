{
 "cells": [
  {
   "cell_type": "code",
   "execution_count": null,
   "metadata": {},
   "outputs": [],
   "source": [
    "import numpy as np\n",
    "import pandas as pd\n",
    "import seaborn as sns\n",
    "import matplotlib.pyplot as plt\n",
    "sns.set(font_scale=1)"
   ]
  },
  {
   "cell_type": "code",
   "execution_count": null,
   "metadata": {},
   "outputs": [],
   "source": [
    "feat = {\n",
    "    'ai_all': \"Arousal index\",\n",
    "    'ahi': \"AHI\",\n",
    "    'sp_density': \"Spindles density\",\n",
    "    'sp_power': \"Spindles power\",\n",
    "    'sp_freq': \"Spindles frequency\",\n",
    "    'sw_density': \"SO density\",\n",
    "    'sw_ptp': \"SO amplitude\",\n",
    "    'sw_freq': \"SO frequency\",\n",
    "    'sw_ndpac_thr_supzero': \"SO-spi coupling strength\",\n",
    "    'sw_ndpac_prop_supzero': \"Prop. of coupled SO\",\n",
    "    'sstats_SPT': \"SPT\",\n",
    "    'sstats_WASO': \"WASO\",\n",
    "    'sstats_TST': \"TST\",\n",
    "    'sstats_TIB': \"TIB\",\n",
    "    'sstats_N1': \"N1\",\n",
    "    'sstats_N2': \"N2\",\n",
    "    'sstats_N3': \"N3\",\n",
    "    'sstats_REM': \"REM\",\n",
    "    'sstats_NREM': \"NREM\",\n",
    "    \"sstats_SOL\": \"SOL\",\n",
    "    'sstats_Lat_N1': \"N1 latency\",\n",
    "    'sstats_Lat_N2': \"N2 latency\",\n",
    "    'sstats_Lat_N3': \"N3 latency\",\n",
    "    'sstats_Lat_REM': \"REM latency\",\n",
    "    'sstats_pN1': \"%N1\",\n",
    "    'sstats_pN2': \"%N2\",\n",
    "    'sstats_pN3': \"%N3\",\n",
    "    'sstats_pREM': \"%REM\",\n",
    "    'sstats_pNREM': \"%NREM\",\n",
    "    'sstats_SE': \"SE\",\n",
    "    'sstats_SME': \"SME\",\n",
    "    'bp_alpha_NREM': \"NREM alpha\",\n",
    "    'bp_alpha_REM': \"REM alpha\",\n",
    "    'bp_beta_NREM': \"NREM beta\",\n",
    "    'bp_beta_REM': \"REM beta\",\n",
    "    'bp_fdelta_NREM': \"NREM fast delta\",\n",
    "    'bp_fdelta_REM': \"REM fast delta\",\n",
    "    'bp_sdelta_NREM': \"NREM slow delta\",\n",
    "    'bp_sdelta_REM': \"REM slow delta\",\n",
    "    'bp_delta_NREM': \"NREM delta (SWA)\",\n",
    "    'bp_delta_REM': \"REM delta\",\n",
    "    'bp_sigma_NREM': \"NREM sigma\",\n",
    "    'bp_sigma_REM': \"REM sigma\",\n",
    "    'bp_theta_NREM': \"NREM theta\",\n",
    "    'bp_theta_REM': \"REM theta\",\n",
    "    'bp_total_pow_NREM': \"NREM power\",\n",
    "    'bp_total_pow_REM': \"REM power\",\n",
    "}"
   ]
  },
  {
   "cell_type": "code",
   "execution_count": null,
   "metadata": {},
   "outputs": [],
   "source": [
    "df = pd.read_csv(\"../output/csv/rank_sleep_CFS.csv\", index_col=0)\n",
    "# df = pd.read_csv(\"../output/csv/rank_sleep_homa_CFS.csv\", index_col=0)\n",
    "df.index.name = \"metric\"\n",
    "print(df.shape[0], \"sleep predictors\")\n",
    "df.head().round(3)"
   ]
  },
  {
   "cell_type": "code",
   "execution_count": null,
   "metadata": {},
   "outputs": [],
   "source": [
    "# Are there rows with all NaN?\n",
    "df.loc[df.isna().all(1)]"
   ]
  },
  {
   "cell_type": "code",
   "execution_count": null,
   "metadata": {},
   "outputs": [],
   "source": [
    "# Both should be zero\n",
    "print(len(np.setdiff1d(df.index, list(feat.keys()))))\n",
    "print(len(np.setdiff1d(list(feat.keys()), df.index)))"
   ]
  },
  {
   "cell_type": "code",
   "execution_count": null,
   "metadata": {},
   "outputs": [],
   "source": [
    "# Replace with readable names\n",
    "df.index = df.index.map(feat)\n",
    "df.head().round(3)"
   ]
  },
  {
   "cell_type": "code",
   "execution_count": null,
   "metadata": {},
   "outputs": [],
   "source": [
    "if \"n_valid\" in df.columns:\n",
    "    # If sample sizes differ, we cannot directly compare the R^2 because models are using different data\n",
    "    display(df[\"n_valid\"].value_counts())"
   ]
  },
  {
   "cell_type": "code",
   "execution_count": null,
   "metadata": {},
   "outputs": [],
   "source": [
    "# Plot Negative log p-values\n",
    "df[\"neglog_p\"] = -np.log10(df[\"p\"])\n",
    "reds = sns.color_palette(\"Reds\")\n",
    "fig, ax = plt.subplots(1, 1, figsize=(3, 10))\n",
    "sns.barplot(data=df, x=\"neglog_p\", y=df.index, palette=reds, lw=0, alpha=1, ec=\"k\", ax=ax)\n",
    "plt.axvline(-np.log10(0.05), color=\"k\", ls=\":\", lw=1.5)\n",
    "plt.annotate(\"p = 0.05\", xy=(-np.log10(0.05) + 0.1, df.shape[0] - 1), ha=\"left\", color=\"k\", rotation=0, fontstyle=\"italic\")\n",
    "plt.xlabel(\"Negative log p-value\")  # ($-\\\\log_{10}(p)$)\n",
    "plt.ylabel(None);\n",
    "plt.savefig(\"../output/plots/neglogpval_CFS.png\", dpi=300, bbox_inches=\"tight\")"
   ]
  }
 ],
 "metadata": {
  "kernelspec": {
   "display_name": "Python 3 (ipykernel)",
   "language": "python",
   "name": "python3"
  },
  "language_info": {
   "codemirror_mode": {
    "name": "ipython",
    "version": 3
   },
   "file_extension": ".py",
   "mimetype": "text/x-python",
   "name": "python",
   "nbconvert_exporter": "python",
   "pygments_lexer": "ipython3",
   "version": "3.9.6"
  }
 },
 "nbformat": 4,
 "nbformat_minor": 4
}
