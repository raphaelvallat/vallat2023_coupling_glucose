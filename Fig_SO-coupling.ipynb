{
 "cells": [
  {
   "cell_type": "code",
   "execution_count": null,
   "id": "8fbf3360",
   "metadata": {},
   "outputs": [],
   "source": [
    "import pandas as pd\n",
    "import seaborn as sns\n",
    "import matplotlib.pyplot as plt\n",
    "sns.set(style=\"ticks\", font_scale=1.3)\n",
    "\n",
    "df = pd.read_csv(\"output/csv/df_example_so.csv\")\n",
    "df"
   ]
  },
  {
   "cell_type": "code",
   "execution_count": null,
   "id": "ad9615a4",
   "metadata": {},
   "outputs": [],
   "source": [
    "fig, (ax1, ax2) = plt.subplots(1, 2, figsize=(8, 4), sharex=True, sharey=True)\n",
    "\n",
    "ax1.plot(4 * df['sp_coupling'], lw=1.5, color=\"tab:orange\")\n",
    "ax1.plot(df['so_coupling'], lw=3, color=\"k\")\n",
    "\n",
    "ax2.plot(4 * df['sp_nocoup'], lw=1.5, color=\"tab:orange\")\n",
    "ax2.plot(df['so_nocoup'], lw=3, color=\"k\")\n",
    "\n",
    "ax1.set_xlim(0, 200)\n",
    "ax1.set_xticklabels([-1, 0.5, 0, 0.5, 1]);\n",
    "\n",
    "ax1.set_ylim(-100, 100)\n",
    "ax1.set_yticks([-100, -50, 0, 50, 100])\n",
    "\n",
    "# ax1.axhline(0, ls=\":\", color=\"k\", lw=1, zorder=-10)\n",
    "# ax2.axhline(0, ls=\":\", color=\"k\", lw=1, zorder=-10)\n",
    "\n",
    "ax1.axvline(100, ls=\":\", color=\"k\", lw=1, )\n",
    "ax2.axvline(100, ls=\":\", color=\"k\", lw=1, )\n",
    "\n",
    "ax1.set_xlabel(\"Time since neg peak of SO (sec)\")\n",
    "ax2.set_xlabel(\"Time since neg peak of SO\")\n",
    "\n",
    "ax1.set_title(\"SO with significant coupling\")\n",
    "ax2.set_title(\"SO with no coupling\")\n",
    "\n",
    "ax1.set_ylabel(\"Amplitude (μV)\");\n",
    "\n",
    "plt.savefig(\"output/plots/SO_examples.png\", bbox_inches=\"tight\", dpi=300)"
   ]
  }
 ],
 "metadata": {
  "kernelspec": {
   "display_name": "Python 3 (ipykernel)",
   "language": "python",
   "name": "python3"
  },
  "language_info": {
   "codemirror_mode": {
    "name": "ipython",
    "version": 3
   },
   "file_extension": ".py",
   "mimetype": "text/x-python",
   "name": "python",
   "nbconvert_exporter": "python",
   "pygments_lexer": "ipython3",
   "version": "3.9.6"
  }
 },
 "nbformat": 4,
 "nbformat_minor": 5
}
