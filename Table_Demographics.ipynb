{
 "cells": [
  {
   "cell_type": "code",
   "execution_count": null,
   "metadata": {},
   "outputs": [],
   "source": [
    "import numpy as np\n",
    "import pandas as pd\n",
    "import pingouin as pg\n",
    "import seaborn as sns\n",
    "import scipy.stats as sp_stats\n",
    "import matplotlib.pyplot as plt\n",
    "sns.set(font_scale=1.25, style='ticks')"
   ]
  },
  {
   "cell_type": "code",
   "execution_count": null,
   "metadata": {},
   "outputs": [],
   "source": [
    "def mean_std(x, show_range=True):\n",
    "    \"\"\"Print the mean and standard deviation.\"\"\"\n",
    "    if show_range:\n",
    "        return f\"{x.mean():.2f} ± {x.std():.2f} (range = {x.min():.0f}-{x.max():.0f})\"\n",
    "    else:\n",
    "        return f\"{x.mean():.2f} ± {x.std():.2f}\""
   ]
  },
  {
   "cell_type": "markdown",
   "metadata": {},
   "source": [
    "## CFS"
   ]
  },
  {
   "cell_type": "code",
   "execution_count": null,
   "metadata": {},
   "outputs": [],
   "source": [
    "df = pd.read_csv('../output/csv/df_concat_R_1sec_CFS.csv')\n",
    "df[\"sw_ndpac_prop_supzero\"] *= 100\n",
    "print(df.shape)\n",
    "df.head()"
   ]
  },
  {
   "cell_type": "code",
   "execution_count": null,
   "metadata": {},
   "outputs": [],
   "source": [
    "cols_health = [\n",
    "    'age', 'bmi', 'ahi', 'ahi_nrem', 'ahi_rem', 'sp_density', 'sw_density', 'sw_ndpac_thr_supzero', 'sw_ndpac_prop_supzero', \n",
    "    'sstats_SPT', 'sstats_TST', 'sstats_SOL', 'sstats_pN1', 'sstats_pN2', 'sstats_pN3', 'sstats_pREM',\n",
    "    'sstats_SME', 'hrv_rmssd']\n",
    "\n",
    "cols_glucose = ['fasting_glucose', 'ogtt', 'insulin_fast', 'insulin_ogtt']  # sqrt transform\n",
    "cols_homa = ['homa', 'homab']  # log transform"
   ]
  },
  {
   "cell_type": "markdown",
   "metadata": {},
   "source": [
    "### All participants"
   ]
  },
  {
   "cell_type": "code",
   "execution_count": null,
   "metadata": {},
   "outputs": [],
   "source": [
    "df[\"subj\"].nunique()"
   ]
  },
  {
   "cell_type": "code",
   "execution_count": null,
   "metadata": {},
   "outputs": [],
   "source": [
    "df[\"family\"].nunique()"
   ]
  },
  {
   "cell_type": "code",
   "execution_count": null,
   "metadata": {},
   "outputs": [],
   "source": [
    "df['male'].value_counts()"
   ]
  },
  {
   "cell_type": "code",
   "execution_count": null,
   "metadata": {},
   "outputs": [],
   "source": [
    "df['race'].value_counts()"
   ]
  },
  {
   "cell_type": "code",
   "execution_count": null,
   "metadata": {},
   "outputs": [],
   "source": [
    "df['diabetes_cfs'].value_counts()"
   ]
  },
  {
   "cell_type": "code",
   "execution_count": null,
   "metadata": {},
   "outputs": [],
   "source": [
    "df['hypertension'].value_counts()"
   ]
  },
  {
   "cell_type": "code",
   "execution_count": null,
   "metadata": {},
   "outputs": [],
   "source": [
    "df[\"smoking_cfs\"].value_counts(dropna=False)"
   ]
  },
  {
   "cell_type": "code",
   "execution_count": null,
   "metadata": {},
   "outputs": [],
   "source": [
    "df[cols_health].apply(mean_std)"
   ]
  },
  {
   "cell_type": "code",
   "execution_count": null,
   "metadata": {},
   "outputs": [],
   "source": [
    "# df[cols_glucose].apply(mean_std)\n",
    "np.square(df[cols_glucose]).apply(mean_std)"
   ]
  },
  {
   "cell_type": "code",
   "execution_count": null,
   "metadata": {},
   "outputs": [],
   "source": [
    "df[cols_homa].apply(mean_std)"
   ]
  },
  {
   "cell_type": "code",
   "execution_count": null,
   "metadata": {},
   "outputs": [],
   "source": [
    "print(sp_stats.circmean(df[\"sw_pp\"], low=-np.pi, high=np.pi, nan_policy=\"omit\") * 180 / np.pi)\n",
    "print(sp_stats.circstd(df[\"sw_pp\"], low=-np.pi, high=np.pi, nan_policy=\"omit\") * 180 / np.pi)"
   ]
  },
  {
   "cell_type": "code",
   "execution_count": null,
   "metadata": {},
   "outputs": [],
   "source": [
    "# Proportion of participants with clinically significant AHI (> 5)\n",
    "print(f\"{100 * (df['ahi'] > 5).sum() / df.shape[0]:.1f}% of participants have an AHI > 5\")\n",
    "print(f\"{100 * (df['ahi'] > 15).sum() / df.shape[0]:.1f}% of participants have an AHI > 15\")\n",
    "print(f\"{100 * (df['ahi'] > 30).sum() / df.shape[0]:.1f}% of participants have an AHI > 30\")"
   ]
  },
  {
   "cell_type": "markdown",
   "metadata": {},
   "source": [
    "***********\n",
    "\n",
    "## MESA"
   ]
  },
  {
   "cell_type": "code",
   "execution_count": null,
   "metadata": {},
   "outputs": [],
   "source": [
    "df = pd.read_csv('../output/csv/df_concat_R_1sec_MESA.csv')\n",
    "df[\"sw_ndpac_prop_supzero\"] *= 100\n",
    "print(df.shape)\n",
    "df.head()"
   ]
  },
  {
   "cell_type": "code",
   "execution_count": null,
   "metadata": {},
   "outputs": [],
   "source": [
    "cols_health = [\n",
    "    'age', 'race', 'male', 'diabetes', 'hypertension', 'bmi', 'diabetes_medication', 'hba1c',\n",
    "    'income', 'smoking', 'ahi', 'sp_density', 'sw_density', 'sw_ndpac_thr_supzero', 'sw_ndpac_prop_supzero', \n",
    "    'sstats_SPT', 'sstats_TST', 'sstats_SOL', 'sstats_pN1', 'sstats_pN2', 'sstats_pN3', 'sstats_pREM', \n",
    "    'sstats_SME', 'hrv_rmssd', 'hrv_ihr', 'days_exam5_to_psg']"
   ]
  },
  {
   "cell_type": "code",
   "execution_count": null,
   "metadata": {},
   "outputs": [],
   "source": [
    "df['diabetes'].value_counts()"
   ]
  },
  {
   "cell_type": "code",
   "execution_count": null,
   "metadata": {},
   "outputs": [],
   "source": [
    "df['race'].value_counts()"
   ]
  },
  {
   "cell_type": "code",
   "execution_count": null,
   "metadata": {},
   "outputs": [],
   "source": [
    "df['hypertension'].value_counts()"
   ]
  },
  {
   "cell_type": "code",
   "execution_count": null,
   "metadata": {},
   "outputs": [],
   "source": [
    "df['diabetes_medication'].value_counts()"
   ]
  },
  {
   "cell_type": "code",
   "execution_count": null,
   "metadata": {},
   "outputs": [],
   "source": [
    "df['smoking'].value_counts()"
   ]
  },
  {
   "cell_type": "code",
   "execution_count": null,
   "metadata": {},
   "outputs": [],
   "source": [
    "df[cols_health]._get_numeric_data().apply(mean_std)"
   ]
  },
  {
   "cell_type": "code",
   "execution_count": null,
   "metadata": {},
   "outputs": [],
   "source": [
    "np.square(df[\"fasting_glucose\"]).agg(mean_std)"
   ]
  },
  {
   "cell_type": "code",
   "execution_count": null,
   "metadata": {},
   "outputs": [],
   "source": [
    "# Proportion of participants with clinically significant AHI (> 5)\n",
    "print(f\"{100 * (df['ahi'] > 5).sum() / df.shape[0]:.1f}% of participants have an AHI > 5\")\n",
    "print(f\"{100 * (df['ahi'] > 15).sum() / df.shape[0]:.1f}% of participants have an AHI > 15\")\n",
    "print(f\"{100 * (df['ahi'] > 30).sum() / df.shape[0]:.1f}% of participants have an AHI > 30\")"
   ]
  }
 ],
 "metadata": {
  "kernelspec": {
   "display_name": "Python 3 (ipykernel)",
   "language": "python",
   "name": "python3"
  },
  "language_info": {
   "codemirror_mode": {
    "name": "ipython",
    "version": 3
   },
   "file_extension": ".py",
   "mimetype": "text/x-python",
   "name": "python",
   "nbconvert_exporter": "python",
   "pygments_lexer": "ipython3",
   "version": "3.9.6"
  }
 },
 "nbformat": 4,
 "nbformat_minor": 4
}
